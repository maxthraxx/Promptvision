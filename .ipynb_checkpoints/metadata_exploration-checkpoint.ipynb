{
 "cells": [
  {
   "cell_type": "code",
   "execution_count": 2,
   "id": "0240a26d",
   "metadata": {},
   "outputs": [
    {
     "data": {
      "text/plain": [
       "{'parameters': 'Masterpiece, best quality, ultra-detailed illustration of an intricately detailed teapot made from fine porcelain glazed in deep navy blue tones decorated with gold accents Its lid is shaped like an elegant flower bud while its spout curves gracefully into its handle It sits atop a wooden table surrounded by lush green plants in front of large windows that let in soft sunlight to illuminate the scene beautifully\\nNegative prompt: noise,deformed fingers,dust, nipples,ugly, fat, obese, chubby, deformed, blurry, bad anatomy, disfigured, poorly drawn face, mutation, mutated, extra limb, ugly, poorly drawn hands, messy drawing, text, children, child, girl, boy\\nSteps: 40, Sampler: DPM++ SDE Karras, CFG scale: 6.5, Seed: 1866247532, Size: 768x1024, Model hash: 79886b6484, Model: babes_11, Dynamic thresholding enabled: True, Mimic scale: 7, Threshold percentile: 100'}"
      ]
     },
     "execution_count": 2,
     "metadata": {},
     "output_type": "execute_result"
    }
   ],
   "source": [
    "from PIL import Image\n",
    "\n",
    "img = Image.open(\"/Users/kaffekopp/Pictures/testing directory/images/00071-1866247532.png\")\n",
    "img.info"
   ]
  },
  {
   "cell_type": "code",
   "execution_count": 5,
   "id": "faf2bfa2",
   "metadata": {},
   "outputs": [
    {
     "data": {
      "text/plain": [
       "['Masterpiece, best quality, ultra-detailed illustration of an intricately detailed teapot made from fine porcelain glazed in deep navy blue tones decorated with gold accents Its lid is shaped like an elegant flower bud while its spout curves gracefully into its handle It sits atop a wooden table surrounded by lush green plants in front of large windows that let in soft sunlight to illuminate the scene beautifully',\n",
       " 'Negative prompt: noise,deformed fingers,dust, nipples,ugly, fat, obese, chubby, deformed, blurry, bad anatomy, disfigured, poorly drawn face, mutation, mutated, extra limb, ugly, poorly drawn hands, messy drawing, text, children, child, girl, boy',\n",
       " 'Steps: 40, Sampler: DPM++ SDE Karras, CFG scale: 6.5, Seed: 1866247532, Size: 768x1024, Model hash: 79886b6484, Model: babes_11, Dynamic thresholding enabled: True, Mimic scale: 7, Threshold percentile: 100']"
      ]
     },
     "execution_count": 5,
     "metadata": {},
     "output_type": "execute_result"
    }
   ],
   "source": [
    "info = img.info\n",
    "parameters = info.pop('parameters', None)\n",
    "parameters.splitlines()"
   ]
  },
  {
   "cell_type": "code",
   "execution_count": 9,
   "id": "be1a42da",
   "metadata": {},
   "outputs": [
    {
     "name": "stdout",
     "output_type": "stream",
     "text": [
      "Collecting piexif\n",
      "  Using cached piexif-1.1.3-py2.py3-none-any.whl (20 kB)\n",
      "Installing collected packages: piexif\n",
      "Successfully installed piexif-1.1.3\n",
      "Note: you may need to restart the kernel to use updated packages.\n"
     ]
    }
   ],
   "source": [
    "pip install piexif"
   ]
  },
  {
   "cell_type": "code",
   "execution_count": 4,
   "id": "0489bcd9",
   "metadata": {},
   "outputs": [
    {
     "ename": "KeyError",
     "evalue": "'exif'",
     "output_type": "error",
     "traceback": [
      "\u001b[0;31m---------------------------------------------------------------------------\u001b[0m",
      "\u001b[0;31mKeyError\u001b[0m                                  Traceback (most recent call last)",
      "Cell \u001b[0;32mIn[4], line 5\u001b[0m\n\u001b[1;32m      2\u001b[0m jpgnoposprompt\u001b[38;5;241m.\u001b[39minfo\n\u001b[1;32m      4\u001b[0m \u001b[38;5;28;01mimport\u001b[39;00m \u001b[38;5;21;01mpiexif\u001b[39;00m\n\u001b[0;32m----> 5\u001b[0m exif \u001b[38;5;241m=\u001b[39m piexif\u001b[38;5;241m.\u001b[39mload(\u001b[43mjpgnoposprompt\u001b[49m\u001b[38;5;241;43m.\u001b[39;49m\u001b[43minfo\u001b[49m\u001b[43m[\u001b[49m\u001b[38;5;124;43m\"\u001b[39;49m\u001b[38;5;124;43mexif\u001b[39;49m\u001b[38;5;124;43m\"\u001b[39;49m\u001b[43m]\u001b[49m)\n\u001b[1;32m      6\u001b[0m exif_comment \u001b[38;5;241m=\u001b[39m (exif \u001b[38;5;129;01mor\u001b[39;00m {})\u001b[38;5;241m.\u001b[39mget(\u001b[38;5;124m\"\u001b[39m\u001b[38;5;124mExif\u001b[39m\u001b[38;5;124m\"\u001b[39m, {})\u001b[38;5;241m.\u001b[39mget(piexif\u001b[38;5;241m.\u001b[39mExifIFD\u001b[38;5;241m.\u001b[39mUserComment, \u001b[38;5;124mb\u001b[39m\u001b[38;5;124m'\u001b[39m\u001b[38;5;124m'\u001b[39m)\n\u001b[1;32m      7\u001b[0m exif\n",
      "\u001b[0;31mKeyError\u001b[0m: 'exif'"
     ]
    }
   ],
   "source": [
    "jpgnoposprompt = Image.open(\"/Users/kaffekopp/Downloads/Unknown.jpg\")\n",
    "jpgnoposprompt.info\n",
    "\n",
    "import piexif\n",
    "exif = piexif.load(jpgnoposprompt.info[\"exif\"])\n",
    "exif_comment = (exif or {}).get(\"Exif\", {}).get(piexif.ExifIFD.UserComment, b'')\n",
    "exif\n",
    "exif_comment"
   ]
  },
  {
   "cell_type": "code",
   "execution_count": 6,
   "id": "a11c0fdb",
   "metadata": {},
   "outputs": [],
   "source": [
    "# EXIF read function from SD webui\n",
    "import piexif\n",
    "from PIL import Image\n",
    "\n",
    "def read_info_from_image(image):\n",
    "    items = image.info or {}\n",
    "    geninfo = items.pop('parameters', None)\n",
    "\n",
    "    if \"exif\" in items:\n",
    "        exif = piexif.load(items[\"exif\"])\n",
    "        exif_comment = (exif or {}).get(\"Exif\", {}).get(piexif.ExifIFD.UserComment, b'')\n",
    "        try:\n",
    "            exif_comment = piexif.helper.UserComment.load(exif_comment)\n",
    "        except ValueError:\n",
    "            exif_comment = exif_comment.decode('utf8', errors=\"ignore\")\n",
    "\n",
    "        if exif_comment:\n",
    "            items['exif comment'] = exif_comment\n",
    "            geninfo = exif_comment\n",
    "\n",
    "        for field in ['jfif', 'jfif_version', 'jfif_unit', 'jfif_density', 'dpi', 'exif',\n",
    "                      'loop', 'background', 'timestamp', 'duration']:\n",
    "            items.pop(field, None)\n",
    "\n",
    "    return geninfo, items"
   ]
  },
  {
   "cell_type": "code",
   "execution_count": null,
   "id": "c33162ac",
   "metadata": {},
   "outputs": [],
   "source": []
  }
 ],
 "metadata": {
  "kernelspec": {
   "display_name": "Python 3 (ipykernel)",
   "language": "python",
   "name": "python3"
  },
  "language_info": {
   "codemirror_mode": {
    "name": "ipython",
    "version": 3
   },
   "file_extension": ".py",
   "mimetype": "text/x-python",
   "name": "python",
   "nbconvert_exporter": "python",
   "pygments_lexer": "ipython3",
   "version": "3.10.10"
  }
 },
 "nbformat": 4,
 "nbformat_minor": 5
}
